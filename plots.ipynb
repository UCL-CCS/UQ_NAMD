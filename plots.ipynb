{
 "cells": [
  {
   "cell_type": "code",
   "execution_count": null,
   "metadata": {},
   "outputs": [],
   "source": [
    "import easyvvuq as uq\n",
    "import os\n",
    "from custom import CustomEncoder\n",
    "import numpy as np\n",
    "import pandas as pd"
   ]
  },
  {
   "cell_type": "code",
   "execution_count": null,
   "metadata": {},
   "outputs": [],
   "source": [
    "home = '/Users/robertsinclair/codes/FabSim3/plugins/FabCovidsim/adaptive_robbie2'\n",
    "output_columns = [\"cumDeath\"]\n",
    "work_dir = '~/postdoc1/covid/campaigns'\n",
    "config = 'disease_adaptive'"
   ]
  },
  {
   "cell_type": "code",
   "execution_count": 3,
   "metadata": {},
   "outputs": [
    {
     "name": "stdout",
     "output_type": "stream",
     "text": [
      "Loading sampler state from covid_sampler_state.pickle\n",
      "Loading analysis state from covid_analysis_state.pickle\n",
      "Loading sampler state from covid_sampler_state.pickle\n"
     ]
    }
   ],
   "source": [
    "# load campagin state\n",
    "campaign = uq.Campaign(state_file=\"covid_easyvvuq_state.json\", \n",
    "                       work_dir=work_dir)\n",
    "sampler = campaign.get_active_sampler()\n",
    "sampler.load_state(\"covid_sampler_state.pickle\")\n",
    "campaign.set_sampler(sampler)\n",
    "analysis = uq.analysis.SCAnalysis(sampler=sampler, qoi_cols=output_columns)\n",
    "analysis.load_state(\"covid_analysis_state.pickle\")\n",
    "sampler = campaign.get_active_sampler()\n",
    "sampler.load_state(\"covid_sampler_state.pickle\")"
   ]
  },
  {
   "cell_type": "code",
   "execution_count": 4,
   "metadata": {},
   "outputs": [],
   "source": [
    "# make the input parameters more readable for a journal paper\n",
    "\n",
    "params = list(analysis.sampler.vary.get_keys())\n",
    "params[9] = 'Relative_transmission_rates_for elementary schools'\n",
    "params[10] = 'Relative_transmission_rates_for high schools'\n",
    "params[11] = 'Relative_transmission_rates_for universities'\n",
    "params[12] = 'Relative_transmission_rates_for office/workplace'\n",
    "params[13] = 'Relative_spatial_contact_rates_by_age'\n",
    "\n",
    "for i,param in enumerate(params):\n",
    "    params[i] = param.replace('_',' ')"
   ]
  },
  {
   "cell_type": "markdown",
   "metadata": {},
   "source": [
    "# Table of params\n",
    "\n",
    "This is just a pandas dataframe, this will be specific to each group so make it by whatever means neccesary "
   ]
  },
  {
   "cell_type": "code",
   "execution_count": 5,
   "metadata": {},
   "outputs": [],
   "source": [
    "defaults = {\n",
    "        \"Symptomatic_infectiousness_relative_to_asymptomatic\": 1.75,\n",
    "        \"Proportion_symptomatic\": 0.6,\n",
    "        \"Latent_period\": 5,\n",
    "        \"Mortality_factor\": 1.0,\n",
    "        \"Reproduction_number\": None,\n",
    "        \"Infectious_period\": 13.55,\n",
    "        \"Household_attack_rate\": 0.145,\n",
    "        \"Household_transmission_denominator_power\": 0.8,\n",
    "        \"Delay_from_end_of_latent_period_to_start_of_symptoms\": 0.75,\n",
    "        \"Relative_transmission_rates_for_place_types0\": 0.115,\n",
    "        \"Relative_transmission_rates_for_place_types1\": 0.115,\n",
    "        \"Relative_transmission_rates_for_place_types2\": 0.075,\n",
    "        \"Relative_transmission_rates_for_place_types3\": 0.06,\n",
    "        \"Relative_spatial_contact_rates_by_age_power\": 2.125\n",
    "}\n",
    "choice = {\n",
    "        \"Symptomatic_infectiousness_relative_to_asymptomatic\": 'Literature',\n",
    "        \"Proportion_symptomatic\": 'Literature',\n",
    "        \"Latent_period\": 'Literature',\n",
    "        \"Mortality_factor\": '+/- 20%',\n",
    "        \"Reproduction_number\": 'Literature',\n",
    "        \"Infectious_period\": 'Literature',\n",
    "        \"Household_attack_rate\": 'Suggested by Imperial',\n",
    "        \"Household_transmission_denominator_power\": 'Suggested by Imperial',\n",
    "        \"Delay_from_end_of_latent_period_to_start_of_symptoms\": 'Literature',\n",
    "        \"Relative_transmission_rates_for_place_types0\": 'Suggested by Imperial',\n",
    "        \"Relative_transmission_rates_for_place_types1\": 'Suggested by Imperial',\n",
    "        \"Relative_transmission_rates_for_place_types2\": 'Suggested by Imperial',\n",
    "        \"Relative_transmission_rates_for_place_types3\": 'Suggested by Imperial',\n",
    "        \"Relative_spatial_contact_rates_by_age_power\": 'Suggested by Imperial'\n",
    "}"
   ]
  },
  {
   "cell_type": "code",
   "execution_count": 6,
   "metadata": {},
   "outputs": [],
   "source": [
    "adapt_measure = np.max(analysis.l_norm, axis=0)"
   ]
  },
  {
   "cell_type": "code",
   "execution_count": 8,
   "metadata": {},
   "outputs": [
    {
     "name": "stdout",
     "output_type": "stream",
     "text": [
      "\\begin{tabular}{lrrrlr}\n",
      "\\toprule\n",
      "{} &  default &    min &    max &       reason for range &  max quadrature order \\\\\n",
      "\\midrule\n",
      "Symptomatic infectiousness relative to asymptom... &    1.750 &   1.00 &   2.00 &             Literature &                     2 \\\\\n",
      "Proportion symptomatic                             &    0.600 &   0.40 &   0.80 &             Literature &                     3 \\\\\n",
      "Latent period                                      &    5.000 &   3.00 &   6.00 &             Literature &                     2 \\\\\n",
      "Mortality factor                                   &    1.000 &   0.80 &   1.20 &                +/- 20\\% &                     1 \\\\\n",
      "Reproduction number                                &      NaN &   2.00 &   2.70 &             Literature &                     2 \\\\\n",
      "Infectious period                                  &   13.550 &  11.50 &  15.60 &             Literature &                     1 \\\\\n",
      "Household attack rate                              &    0.145 &   0.10 &   0.19 &  Suggested by Imperial &                     2 \\\\\n",
      "Household transmission denominator power           &    0.800 &   0.70 &   0.90 &  Suggested by Imperial &                     1 \\\\\n",
      "Delay from end of latent period to start of sym... &    0.750 &   0.00 &   1.50 &             Literature &                     2 \\\\\n",
      "Relative transmission rates for elementary schools &    0.115 &   0.08 &   0.15 &  Suggested by Imperial &                     1 \\\\\n",
      "Relative transmission rates for high schools       &    0.115 &   0.08 &   0.15 &  Suggested by Imperial &                     1 \\\\\n",
      "Relative transmission rates for universities       &    0.075 &   0.05 &   0.10 &  Suggested by Imperial &                     1 \\\\\n",
      "Relative transmission rates for office/workplace   &    0.060 &   0.05 &   0.07 &  Suggested by Imperial &                     1 \\\\\n",
      "Relative spatial contact rates by age              &    2.125 &   0.25 &   4.00 &  Suggested by Imperial &                     2 \\\\\n",
      "\\bottomrule\n",
      "\\end{tabular}\n",
      "\n"
     ]
    }
   ],
   "source": [
    "data = {\n",
    "    'default':[],\n",
    "    'min':[],\n",
    "    'max':[],\n",
    "    'reason for range':[],\n",
    "    'max quadrature order':[],\n",
    "}\n",
    "index = []\n",
    "\n",
    "for i, (key, dist) in enumerate(analysis.sampler.vary.vary_dict.items()):\n",
    "    data['min'] += [dist.lower]\n",
    "    data['max'] += [dist.upper]\n",
    "    data['max quadrature order'] += [adapt_measure[i]]\n",
    "    data['default'] += [defaults[key]]\n",
    "    data['reason for range'] += [choice[key]]\n",
    "data['min'] = [float(x) for x in data['min']]\n",
    "data['max'] = [float(x) for x in data['max']]\n",
    "    \n",
    "data = pd.DataFrame(data, index=params)\n",
    "data.sort_values('max quadrature order', ascending=False)\n",
    "\n",
    "print(data.to_latex())"
   ]
  },
  {
   "cell_type": "markdown",
   "metadata": {},
   "source": [
    "# Sobol indeces\n",
    "\n",
    "First run the analysis, this will take a while. Then plot the first order sobol indeces.\n",
    "\n",
    "Then calculate the total sobol indeces, this also takes a while and gives a better idea of the total importance of a parameter. "
   ]
  },
  {
   "cell_type": "code",
   "execution_count": 9,
   "metadata": {},
   "outputs": [
    {
     "name": "stdout",
     "output_type": "stream",
     "text": [
      "computing combination coefficients...\n",
      "done\n",
      "Computing collocation points and level indices...\n",
      "done.\n",
      "Loading samples...\n",
      "done\n",
      "Computing moments...\n",
      "done\n",
      "Computing PCE coefficients...\n",
      "Computing coeffienct 1 of 1\n",
      "Computing coeffienct 1 of 2\n",
      "Computing coeffienct 2 of 2\n",
      "Computing coeffienct 1 of 2\n",
      "Computing coeffienct 2 of 2\n",
      "Computing coeffienct 1 of 4\n",
      "Computing coeffienct 2 of 4\n",
      "Computing coeffienct 3 of 4\n",
      "Computing coeffienct 4 of 4\n",
      "Computing coeffienct 1 of 2\n",
      "Computing coeffienct 2 of 2\n",
      "Computing coeffienct 1 of 4\n",
      "Computing coeffienct 2 of 4\n",
      "Computing coeffienct 3 of 4\n",
      "Computing coeffienct 4 of 4\n",
      "Computing coeffienct 1 of 4\n",
      "Computing coeffienct 2 of 4\n",
      "Computing coeffienct 3 of 4\n",
      "Computing coeffienct 4 of 4\n",
      "Computing coeffienct 1 of 8\n",
      "Computing coeffienct 2 of 8\n",
      "Computing coeffienct 3 of 8\n",
      "Computing coeffienct 4 of 8\n",
      "Computing coeffienct 5 of 8\n",
      "Computing coeffienct 6 of 8\n",
      "Computing coeffienct 7 of 8\n",
      "Computing coeffienct 8 of 8\n",
      "Computing coeffienct 1 of 2\n",
      "Computing coeffienct 2 of 2\n",
      "Computing coeffienct 1 of 4\n",
      "Computing coeffienct 2 of 4\n",
      "Computing coeffienct 3 of 4\n",
      "Computing coeffienct 4 of 4\n",
      "Computing coeffienct 1 of 4\n",
      "Computing coeffienct 2 of 4\n",
      "Computing coeffienct 3 of 4\n",
      "Computing coeffienct 4 of 4\n",
      "Computing coeffienct 1 of 8\n",
      "Computing coeffienct 2 of 8\n",
      "Computing coeffienct 3 of 8\n",
      "Computing coeffienct 4 of 8\n",
      "Computing coeffienct 5 of 8\n",
      "Computing coeffienct 6 of 8\n",
      "Computing coeffienct 7 of 8\n",
      "Computing coeffienct 8 of 8\n",
      "Computing coeffienct 1 of 2\n",
      "Computing coeffienct 2 of 2\n",
      "Computing coeffienct 1 of 4\n",
      "Computing coeffienct 2 of 4\n",
      "Computing coeffienct 3 of 4\n",
      "Computing coeffienct 4 of 4\n",
      "Computing coeffienct 1 of 4\n",
      "Computing coeffienct 2 of 4\n",
      "Computing coeffienct 3 of 4\n",
      "Computing coeffienct 4 of 4\n",
      "Computing coeffienct 1 of 8\n",
      "Computing coeffienct 2 of 8\n",
      "Computing coeffienct 3 of 8\n",
      "Computing coeffienct 4 of 8\n",
      "Computing coeffienct 5 of 8\n",
      "Computing coeffienct 6 of 8\n",
      "Computing coeffienct 7 of 8\n",
      "Computing coeffienct 8 of 8\n",
      "Computing coeffienct 1 of 4\n",
      "Computing coeffienct 2 of 4\n",
      "Computing coeffienct 3 of 4\n",
      "Computing coeffienct 4 of 4\n",
      "Computing coeffienct 1 of 8\n",
      "Computing coeffienct 2 of 8\n",
      "Computing coeffienct 3 of 8\n",
      "Computing coeffienct 4 of 8\n",
      "Computing coeffienct 5 of 8\n",
      "Computing coeffienct 6 of 8\n",
      "Computing coeffienct 7 of 8\n",
      "Computing coeffienct 8 of 8\n",
      "Computing coeffienct 1 of 8\n",
      "Computing coeffienct 2 of 8\n",
      "Computing coeffienct 3 of 8\n",
      "Computing coeffienct 4 of 8\n",
      "Computing coeffienct 5 of 8\n",
      "Computing coeffienct 6 of 8\n",
      "Computing coeffienct 7 of 8\n",
      "Computing coeffienct 8 of 8\n",
      "Computing coeffienct 1 of 16\n",
      "Computing coeffienct 2 of 16\n",
      "Computing coeffienct 3 of 16\n",
      "Computing coeffienct 4 of 16\n",
      "Computing coeffienct 5 of 16\n",
      "Computing coeffienct 6 of 16\n",
      "Computing coeffienct 7 of 16\n",
      "Computing coeffienct 8 of 16\n",
      "Computing coeffienct 9 of 16\n",
      "Computing coeffienct 10 of 16\n",
      "Computing coeffienct 11 of 16\n",
      "Computing coeffienct 12 of 16\n",
      "Computing coeffienct 13 of 16\n",
      "Computing coeffienct 14 of 16\n",
      "Computing coeffienct 15 of 16\n",
      "Computing coeffienct 16 of 16\n",
      "Computing coeffienct 1 of 4\n",
      "Computing coeffienct 2 of 4\n",
      "Computing coeffienct 3 of 4\n",
      "Computing coeffienct 4 of 4\n",
      "Computing coeffienct 1 of 2\n",
      "Computing coeffienct 2 of 2\n",
      "Computing coeffienct 1 of 8\n",
      "Computing coeffienct 2 of 8\n",
      "Computing coeffienct 3 of 8\n",
      "Computing coeffienct 4 of 8\n",
      "Computing coeffienct 5 of 8\n",
      "Computing coeffienct 6 of 8\n",
      "Computing coeffienct 7 of 8\n",
      "Computing coeffienct 8 of 8\n",
      "Computing coeffienct 1 of 8\n",
      "Computing coeffienct 2 of 8\n",
      "Computing coeffienct 3 of 8\n",
      "Computing coeffienct 4 of 8\n",
      "Computing coeffienct 5 of 8\n",
      "Computing coeffienct 6 of 8\n",
      "Computing coeffienct 7 of 8\n",
      "Computing coeffienct 8 of 8\n",
      "Computing coeffienct 1 of 16\n",
      "Computing coeffienct 2 of 16\n",
      "Computing coeffienct 3 of 16\n",
      "Computing coeffienct 4 of 16\n",
      "Computing coeffienct 5 of 16\n",
      "Computing coeffienct 6 of 16\n",
      "Computing coeffienct 7 of 16\n",
      "Computing coeffienct 8 of 16\n",
      "Computing coeffienct 9 of 16\n",
      "Computing coeffienct 10 of 16\n",
      "Computing coeffienct 11 of 16\n",
      "Computing coeffienct 12 of 16\n",
      "Computing coeffienct 13 of 16\n",
      "Computing coeffienct 14 of 16\n",
      "Computing coeffienct 15 of 16\n",
      "Computing coeffienct 16 of 16\n",
      "Computing coeffienct 1 of 4\n",
      "Computing coeffienct 2 of 4\n",
      "Computing coeffienct 3 of 4\n",
      "Computing coeffienct 4 of 4\n",
      "Computing coeffienct 1 of 4\n",
      "Computing coeffienct 2 of 4\n",
      "Computing coeffienct 3 of 4\n",
      "Computing coeffienct 4 of 4\n",
      "Computing coeffienct 1 of 8\n",
      "Computing coeffienct 2 of 8\n",
      "Computing coeffienct 3 of 8\n",
      "Computing coeffienct 4 of 8\n",
      "Computing coeffienct 5 of 8\n",
      "Computing coeffienct 6 of 8\n",
      "Computing coeffienct 7 of 8\n",
      "Computing coeffienct 8 of 8\n",
      "Computing coeffienct 1 of 4\n",
      "Computing coeffienct 2 of 4\n",
      "Computing coeffienct 3 of 4\n",
      "Computing coeffienct 4 of 4\n",
      "Computing coeffienct 1 of 8\n",
      "Computing coeffienct 2 of 8\n",
      "Computing coeffienct 3 of 8\n",
      "Computing coeffienct 4 of 8\n",
      "Computing coeffienct 5 of 8\n",
      "Computing coeffienct 6 of 8\n",
      "Computing coeffienct 7 of 8\n",
      "Computing coeffienct 8 of 8\n",
      "Computing coeffienct 1 of 8\n",
      "Computing coeffienct 2 of 8\n",
      "Computing coeffienct 3 of 8\n",
      "Computing coeffienct 4 of 8\n",
      "Computing coeffienct 5 of 8\n",
      "Computing coeffienct 6 of 8\n",
      "Computing coeffienct 7 of 8\n",
      "Computing coeffienct 8 of 8\n",
      "Computing coeffienct 1 of 16\n",
      "Computing coeffienct 2 of 16\n",
      "Computing coeffienct 3 of 16\n",
      "Computing coeffienct 4 of 16\n",
      "Computing coeffienct 5 of 16\n",
      "Computing coeffienct 6 of 16\n",
      "Computing coeffienct 7 of 16\n",
      "Computing coeffienct 8 of 16\n",
      "Computing coeffienct 9 of 16\n",
      "Computing coeffienct 10 of 16\n",
      "Computing coeffienct 11 of 16\n",
      "Computing coeffienct 12 of 16\n",
      "Computing coeffienct 13 of 16\n",
      "Computing coeffienct 14 of 16\n",
      "Computing coeffienct 15 of 16\n",
      "Computing coeffienct 16 of 16\n",
      "Computing coeffienct 1 of 4\n",
      "Computing coeffienct 2 of 4\n",
      "Computing coeffienct 3 of 4\n",
      "Computing coeffienct 4 of 4\n",
      "Computing coeffienct 1 of 8\n",
      "Computing coeffienct 2 of 8\n",
      "Computing coeffienct 3 of 8\n",
      "Computing coeffienct 4 of 8\n",
      "Computing coeffienct 5 of 8\n",
      "Computing coeffienct 6 of 8\n",
      "Computing coeffienct 7 of 8\n",
      "Computing coeffienct 8 of 8\n",
      "Computing coeffienct 1 of 8\n",
      "Computing coeffienct 2 of 8\n",
      "Computing coeffienct 3 of 8\n",
      "Computing coeffienct 4 of 8\n",
      "Computing coeffienct 5 of 8\n",
      "Computing coeffienct 6 of 8\n",
      "Computing coeffienct 7 of 8\n",
      "Computing coeffienct 8 of 8\n",
      "Computing coeffienct 1 of 16\n",
      "Computing coeffienct 2 of 16\n",
      "Computing coeffienct 3 of 16\n",
      "Computing coeffienct 4 of 16\n",
      "Computing coeffienct 5 of 16\n",
      "Computing coeffienct 6 of 16\n",
      "Computing coeffienct 7 of 16\n",
      "Computing coeffienct 8 of 16\n",
      "Computing coeffienct 9 of 16\n",
      "Computing coeffienct 10 of 16\n",
      "Computing coeffienct 11 of 16\n",
      "Computing coeffienct 12 of 16\n",
      "Computing coeffienct 13 of 16\n",
      "Computing coeffienct 14 of 16\n",
      "Computing coeffienct 15 of 16\n",
      "Computing coeffienct 16 of 16\n",
      "Computing coeffienct 1 of 8\n",
      "Computing coeffienct 2 of 8\n",
      "Computing coeffienct 3 of 8\n",
      "Computing coeffienct 4 of 8\n",
      "Computing coeffienct 5 of 8\n",
      "Computing coeffienct 6 of 8\n",
      "Computing coeffienct 7 of 8\n",
      "Computing coeffienct 8 of 8\n",
      "Computing coeffienct 1 of 16\n",
      "Computing coeffienct 2 of 16\n",
      "Computing coeffienct 3 of 16\n",
      "Computing coeffienct 4 of 16\n",
      "Computing coeffienct 5 of 16\n",
      "Computing coeffienct 6 of 16\n",
      "Computing coeffienct 7 of 16\n",
      "Computing coeffienct 8 of 16\n",
      "Computing coeffienct 9 of 16\n",
      "Computing coeffienct 10 of 16\n",
      "Computing coeffienct 11 of 16\n",
      "Computing coeffienct 12 of 16\n",
      "Computing coeffienct 13 of 16\n",
      "Computing coeffienct 14 of 16\n",
      "Computing coeffienct 15 of 16\n",
      "Computing coeffienct 16 of 16\n",
      "Computing coeffienct 1 of 16\n",
      "Computing coeffienct 2 of 16\n",
      "Computing coeffienct 3 of 16\n",
      "Computing coeffienct 4 of 16\n",
      "Computing coeffienct 5 of 16\n",
      "Computing coeffienct 6 of 16\n",
      "Computing coeffienct 7 of 16\n",
      "Computing coeffienct 8 of 16\n",
      "Computing coeffienct 9 of 16\n",
      "Computing coeffienct 10 of 16\n",
      "Computing coeffienct 11 of 16\n",
      "Computing coeffienct 12 of 16\n",
      "Computing coeffienct 13 of 16\n",
      "Computing coeffienct 14 of 16\n",
      "Computing coeffienct 15 of 16\n",
      "Computing coeffienct 16 of 16\n",
      "Computing coeffienct 1 of 32\n",
      "Computing coeffienct 2 of 32\n",
      "Computing coeffienct 3 of 32\n",
      "Computing coeffienct 4 of 32\n",
      "Computing coeffienct 5 of 32\n",
      "Computing coeffienct 6 of 32\n",
      "Computing coeffienct 7 of 32\n",
      "Computing coeffienct 8 of 32\n",
      "Computing coeffienct 9 of 32\n",
      "Computing coeffienct 10 of 32\n",
      "Computing coeffienct 11 of 32\n",
      "Computing coeffienct 12 of 32\n",
      "Computing coeffienct 13 of 32\n",
      "Computing coeffienct 14 of 32\n",
      "Computing coeffienct 15 of 32\n",
      "Computing coeffienct 16 of 32\n"
     ]
    },
    {
     "name": "stdout",
     "output_type": "stream",
     "text": [
      "Computing coeffienct 17 of 32\n",
      "Computing coeffienct 18 of 32\n",
      "Computing coeffienct 19 of 32\n",
      "Computing coeffienct 20 of 32\n",
      "Computing coeffienct 21 of 32\n",
      "Computing coeffienct 22 of 32\n",
      "Computing coeffienct 23 of 32\n",
      "Computing coeffienct 24 of 32\n",
      "Computing coeffienct 25 of 32\n",
      "Computing coeffienct 26 of 32\n",
      "Computing coeffienct 27 of 32\n",
      "Computing coeffienct 28 of 32\n",
      "Computing coeffienct 29 of 32\n",
      "Computing coeffienct 30 of 32\n",
      "Computing coeffienct 31 of 32\n",
      "Computing coeffienct 32 of 32\n",
      "Computing coeffienct 1 of 3\n",
      "Computing coeffienct 2 of 3\n",
      "Computing coeffienct 3 of 3\n",
      "Computing coeffienct 1 of 6\n",
      "Computing coeffienct 2 of 6\n",
      "Computing coeffienct 3 of 6\n",
      "Computing coeffienct 4 of 6\n",
      "Computing coeffienct 5 of 6\n",
      "Computing coeffienct 6 of 6\n",
      "Computing coeffienct 1 of 6\n",
      "Computing coeffienct 2 of 6\n",
      "Computing coeffienct 3 of 6\n",
      "Computing coeffienct 4 of 6\n",
      "Computing coeffienct 5 of 6\n",
      "Computing coeffienct 6 of 6\n",
      "Computing coeffienct 1 of 12\n",
      "Computing coeffienct 2 of 12\n",
      "Computing coeffienct 3 of 12\n",
      "Computing coeffienct 4 of 12\n",
      "Computing coeffienct 5 of 12\n",
      "Computing coeffienct 6 of 12\n",
      "Computing coeffienct 7 of 12\n",
      "Computing coeffienct 8 of 12\n",
      "Computing coeffienct 9 of 12\n",
      "Computing coeffienct 10 of 12\n",
      "Computing coeffienct 11 of 12\n",
      "Computing coeffienct 12 of 12\n",
      "Computing coeffienct 1 of 6\n",
      "Computing coeffienct 2 of 6\n",
      "Computing coeffienct 3 of 6\n",
      "Computing coeffienct 4 of 6\n",
      "Computing coeffienct 5 of 6\n",
      "Computing coeffienct 6 of 6\n",
      "Computing coeffienct 1 of 12\n",
      "Computing coeffienct 2 of 12\n",
      "Computing coeffienct 3 of 12\n",
      "Computing coeffienct 4 of 12\n",
      "Computing coeffienct 5 of 12\n",
      "Computing coeffienct 6 of 12\n",
      "Computing coeffienct 7 of 12\n",
      "Computing coeffienct 8 of 12\n",
      "Computing coeffienct 9 of 12\n",
      "Computing coeffienct 10 of 12\n",
      "Computing coeffienct 11 of 12\n",
      "Computing coeffienct 12 of 12\n",
      "Computing coeffienct 1 of 12\n",
      "Computing coeffienct 2 of 12\n",
      "Computing coeffienct 3 of 12\n",
      "Computing coeffienct 4 of 12\n",
      "Computing coeffienct 5 of 12\n",
      "Computing coeffienct 6 of 12\n",
      "Computing coeffienct 7 of 12\n",
      "Computing coeffienct 8 of 12\n",
      "Computing coeffienct 9 of 12\n",
      "Computing coeffienct 10 of 12\n",
      "Computing coeffienct 11 of 12\n",
      "Computing coeffienct 12 of 12\n",
      "Computing coeffienct 1 of 24\n",
      "Computing coeffienct 2 of 24\n",
      "Computing coeffienct 3 of 24\n",
      "Computing coeffienct 4 of 24\n",
      "Computing coeffienct 5 of 24\n",
      "Computing coeffienct 6 of 24\n",
      "Computing coeffienct 7 of 24\n",
      "Computing coeffienct 8 of 24\n",
      "Computing coeffienct 9 of 24\n",
      "Computing coeffienct 10 of 24\n",
      "Computing coeffienct 11 of 24\n",
      "Computing coeffienct 12 of 24\n",
      "Computing coeffienct 13 of 24\n",
      "Computing coeffienct 14 of 24\n",
      "Computing coeffienct 15 of 24\n",
      "Computing coeffienct 16 of 24\n",
      "Computing coeffienct 17 of 24\n",
      "Computing coeffienct 18 of 24\n",
      "Computing coeffienct 19 of 24\n",
      "Computing coeffienct 20 of 24\n",
      "Computing coeffienct 21 of 24\n",
      "Computing coeffienct 22 of 24\n",
      "Computing coeffienct 23 of 24\n",
      "Computing coeffienct 24 of 24\n",
      "Computing coeffienct 1 of 2\n",
      "Computing coeffienct 2 of 2\n",
      "Computing coeffienct 1 of 4\n",
      "Computing coeffienct 2 of 4\n",
      "Computing coeffienct 3 of 4\n",
      "Computing coeffienct 4 of 4\n",
      "Computing coeffienct 1 of 4\n",
      "Computing coeffienct 2 of 4\n",
      "Computing coeffienct 3 of 4\n",
      "Computing coeffienct 4 of 4\n",
      "Computing coeffienct 1 of 8\n",
      "Computing coeffienct 2 of 8\n",
      "Computing coeffienct 3 of 8\n",
      "Computing coeffienct 4 of 8\n",
      "Computing coeffienct 5 of 8\n",
      "Computing coeffienct 6 of 8\n",
      "Computing coeffienct 7 of 8\n",
      "Computing coeffienct 8 of 8\n",
      "Computing coeffienct 1 of 4\n",
      "Computing coeffienct 2 of 4\n",
      "Computing coeffienct 3 of 4\n",
      "Computing coeffienct 4 of 4\n",
      "Computing coeffienct 1 of 8\n",
      "Computing coeffienct 2 of 8\n",
      "Computing coeffienct 3 of 8\n",
      "Computing coeffienct 4 of 8\n",
      "Computing coeffienct 5 of 8\n",
      "Computing coeffienct 6 of 8\n",
      "Computing coeffienct 7 of 8\n",
      "Computing coeffienct 8 of 8\n",
      "Computing coeffienct 1 of 4\n",
      "Computing coeffienct 2 of 4\n",
      "Computing coeffienct 3 of 4\n",
      "Computing coeffienct 4 of 4\n",
      "Computing coeffienct 1 of 8\n",
      "Computing coeffienct 2 of 8\n",
      "Computing coeffienct 3 of 8\n",
      "Computing coeffienct 4 of 8\n",
      "Computing coeffienct 5 of 8\n",
      "Computing coeffienct 6 of 8\n",
      "Computing coeffienct 7 of 8\n",
      "Computing coeffienct 8 of 8\n",
      "Computing coeffienct 1 of 8\n",
      "Computing coeffienct 2 of 8\n",
      "Computing coeffienct 3 of 8\n",
      "Computing coeffienct 4 of 8\n",
      "Computing coeffienct 5 of 8\n",
      "Computing coeffienct 6 of 8\n",
      "Computing coeffienct 7 of 8\n",
      "Computing coeffienct 8 of 8\n",
      "Computing coeffienct 1 of 16\n",
      "Computing coeffienct 2 of 16\n",
      "Computing coeffienct 3 of 16\n",
      "Computing coeffienct 4 of 16\n",
      "Computing coeffienct 5 of 16\n",
      "Computing coeffienct 6 of 16\n",
      "Computing coeffienct 7 of 16\n",
      "Computing coeffienct 8 of 16\n",
      "Computing coeffienct 9 of 16\n",
      "Computing coeffienct 10 of 16\n",
      "Computing coeffienct 11 of 16\n",
      "Computing coeffienct 12 of 16\n",
      "Computing coeffienct 13 of 16\n",
      "Computing coeffienct 14 of 16\n",
      "Computing coeffienct 15 of 16\n",
      "Computing coeffienct 16 of 16\n",
      "Computing coeffienct 1 of 8\n",
      "Computing coeffienct 2 of 8\n",
      "Computing coeffienct 3 of 8\n",
      "Computing coeffienct 4 of 8\n",
      "Computing coeffienct 5 of 8\n",
      "Computing coeffienct 6 of 8\n",
      "Computing coeffienct 7 of 8\n",
      "Computing coeffienct 8 of 8\n",
      "Computing coeffienct 1 of 16\n",
      "Computing coeffienct 2 of 16\n",
      "Computing coeffienct 3 of 16\n",
      "Computing coeffienct 4 of 16\n",
      "Computing coeffienct 5 of 16\n",
      "Computing coeffienct 6 of 16\n",
      "Computing coeffienct 7 of 16\n",
      "Computing coeffienct 8 of 16\n",
      "Computing coeffienct 9 of 16\n",
      "Computing coeffienct 10 of 16\n",
      "Computing coeffienct 11 of 16\n",
      "Computing coeffienct 12 of 16\n",
      "Computing coeffienct 13 of 16\n",
      "Computing coeffienct 14 of 16\n",
      "Computing coeffienct 15 of 16\n",
      "Computing coeffienct 16 of 16\n",
      "Computing coeffienct 1 of 6\n",
      "Computing coeffienct 2 of 6\n",
      "Computing coeffienct 3 of 6\n",
      "Computing coeffienct 4 of 6\n",
      "Computing coeffienct 5 of 6\n",
      "Computing coeffienct 6 of 6\n",
      "Computing coeffienct 1 of 12\n",
      "Computing coeffienct 2 of 12\n",
      "Computing coeffienct 3 of 12\n",
      "Computing coeffienct 4 of 12\n",
      "Computing coeffienct 5 of 12\n",
      "Computing coeffienct 6 of 12\n",
      "Computing coeffienct 7 of 12\n",
      "Computing coeffienct 8 of 12\n",
      "Computing coeffienct 9 of 12\n",
      "Computing coeffienct 10 of 12\n",
      "Computing coeffienct 11 of 12\n",
      "Computing coeffienct 12 of 12\n",
      "Computing coeffienct 1 of 12\n",
      "Computing coeffienct 2 of 12\n",
      "Computing coeffienct 3 of 12\n",
      "Computing coeffienct 4 of 12\n",
      "Computing coeffienct 5 of 12\n",
      "Computing coeffienct 6 of 12\n",
      "Computing coeffienct 7 of 12\n",
      "Computing coeffienct 8 of 12\n",
      "Computing coeffienct 9 of 12\n",
      "Computing coeffienct 10 of 12\n",
      "Computing coeffienct 11 of 12\n",
      "Computing coeffienct 12 of 12\n",
      "Computing coeffienct 1 of 24\n",
      "Computing coeffienct 2 of 24\n",
      "Computing coeffienct 3 of 24\n",
      "Computing coeffienct 4 of 24\n",
      "Computing coeffienct 5 of 24\n",
      "Computing coeffienct 6 of 24\n",
      "Computing coeffienct 7 of 24\n",
      "Computing coeffienct 8 of 24\n",
      "Computing coeffienct 9 of 24\n",
      "Computing coeffienct 10 of 24\n",
      "Computing coeffienct 11 of 24\n",
      "Computing coeffienct 12 of 24\n",
      "Computing coeffienct 13 of 24\n",
      "Computing coeffienct 14 of 24\n",
      "Computing coeffienct 15 of 24\n",
      "Computing coeffienct 16 of 24\n",
      "Computing coeffienct 17 of 24\n",
      "Computing coeffienct 18 of 24\n",
      "Computing coeffienct 19 of 24\n",
      "Computing coeffienct 20 of 24\n",
      "Computing coeffienct 21 of 24\n",
      "Computing coeffienct 22 of 24\n",
      "Computing coeffienct 23 of 24\n",
      "Computing coeffienct 24 of 24\n",
      "Computing coeffienct 1 of 4\n",
      "Computing coeffienct 2 of 4\n",
      "Computing coeffienct 3 of 4\n",
      "Computing coeffienct 4 of 4\n",
      "Computing coeffienct 1 of 8\n",
      "Computing coeffienct 2 of 8\n",
      "Computing coeffienct 3 of 8\n",
      "Computing coeffienct 4 of 8\n",
      "Computing coeffienct 5 of 8\n",
      "Computing coeffienct 6 of 8\n",
      "Computing coeffienct 7 of 8\n",
      "Computing coeffienct 8 of 8\n",
      "Computing coeffienct 1 of 8\n",
      "Computing coeffienct 2 of 8\n",
      "Computing coeffienct 3 of 8\n",
      "Computing coeffienct 4 of 8\n",
      "Computing coeffienct 5 of 8\n",
      "Computing coeffienct 6 of 8\n",
      "Computing coeffienct 7 of 8\n",
      "Computing coeffienct 8 of 8\n",
      "Computing coeffienct 1 of 16\n",
      "Computing coeffienct 2 of 16\n",
      "Computing coeffienct 3 of 16\n",
      "Computing coeffienct 4 of 16\n",
      "Computing coeffienct 5 of 16\n",
      "Computing coeffienct 6 of 16\n",
      "Computing coeffienct 7 of 16\n",
      "Computing coeffienct 8 of 16\n",
      "Computing coeffienct 9 of 16\n",
      "Computing coeffienct 10 of 16\n",
      "Computing coeffienct 11 of 16\n",
      "Computing coeffienct 12 of 16\n",
      "Computing coeffienct 13 of 16\n",
      "Computing coeffienct 14 of 16\n",
      "Computing coeffienct 15 of 16\n",
      "Computing coeffienct 16 of 16\n",
      "Computing coeffienct 1 of 8\n",
      "Computing coeffienct 2 of 8\n",
      "Computing coeffienct 3 of 8\n",
      "Computing coeffienct 4 of 8\n",
      "Computing coeffienct 5 of 8\n",
      "Computing coeffienct 6 of 8\n",
      "Computing coeffienct 7 of 8\n"
     ]
    },
    {
     "name": "stdout",
     "output_type": "stream",
     "text": [
      "Computing coeffienct 8 of 8\n",
      "Computing coeffienct 1 of 16\n",
      "Computing coeffienct 2 of 16\n",
      "Computing coeffienct 3 of 16\n",
      "Computing coeffienct 4 of 16\n",
      "Computing coeffienct 5 of 16\n",
      "Computing coeffienct 6 of 16\n",
      "Computing coeffienct 7 of 16\n",
      "Computing coeffienct 8 of 16\n",
      "Computing coeffienct 9 of 16\n",
      "Computing coeffienct 10 of 16\n",
      "Computing coeffienct 11 of 16\n",
      "Computing coeffienct 12 of 16\n",
      "Computing coeffienct 13 of 16\n",
      "Computing coeffienct 14 of 16\n",
      "Computing coeffienct 15 of 16\n",
      "Computing coeffienct 16 of 16\n",
      "Computing coeffienct 1 of 16\n",
      "Computing coeffienct 2 of 16\n",
      "Computing coeffienct 3 of 16\n",
      "Computing coeffienct 4 of 16\n",
      "Computing coeffienct 5 of 16\n",
      "Computing coeffienct 6 of 16\n",
      "Computing coeffienct 7 of 16\n",
      "Computing coeffienct 8 of 16\n",
      "Computing coeffienct 9 of 16\n",
      "Computing coeffienct 10 of 16\n",
      "Computing coeffienct 11 of 16\n",
      "Computing coeffienct 12 of 16\n",
      "Computing coeffienct 13 of 16\n",
      "Computing coeffienct 14 of 16\n",
      "Computing coeffienct 15 of 16\n",
      "Computing coeffienct 16 of 16\n",
      "Computing coeffienct 1 of 32\n",
      "Computing coeffienct 2 of 32\n",
      "Computing coeffienct 3 of 32\n",
      "Computing coeffienct 4 of 32\n",
      "Computing coeffienct 5 of 32\n",
      "Computing coeffienct 6 of 32\n",
      "Computing coeffienct 7 of 32\n",
      "Computing coeffienct 8 of 32\n",
      "Computing coeffienct 9 of 32\n",
      "Computing coeffienct 10 of 32\n",
      "Computing coeffienct 11 of 32\n",
      "Computing coeffienct 12 of 32\n",
      "Computing coeffienct 13 of 32\n",
      "Computing coeffienct 14 of 32\n",
      "Computing coeffienct 15 of 32\n",
      "Computing coeffienct 16 of 32\n",
      "Computing coeffienct 17 of 32\n",
      "Computing coeffienct 18 of 32\n",
      "Computing coeffienct 19 of 32\n",
      "Computing coeffienct 20 of 32\n",
      "Computing coeffienct 21 of 32\n",
      "Computing coeffienct 22 of 32\n",
      "Computing coeffienct 23 of 32\n",
      "Computing coeffienct 24 of 32\n",
      "Computing coeffienct 25 of 32\n",
      "Computing coeffienct 26 of 32\n",
      "Computing coeffienct 27 of 32\n",
      "Computing coeffienct 28 of 32\n",
      "Computing coeffienct 29 of 32\n",
      "Computing coeffienct 30 of 32\n",
      "Computing coeffienct 31 of 32\n",
      "Computing coeffienct 32 of 32\n",
      "Computing coeffienct 1 of 4\n",
      "Computing coeffienct 2 of 4\n",
      "Computing coeffienct 3 of 4\n",
      "Computing coeffienct 4 of 4\n",
      "Computing coeffienct 1 of 8\n",
      "Computing coeffienct 2 of 8\n",
      "Computing coeffienct 3 of 8\n",
      "Computing coeffienct 4 of 8\n",
      "Computing coeffienct 5 of 8\n",
      "Computing coeffienct 6 of 8\n",
      "Computing coeffienct 7 of 8\n",
      "Computing coeffienct 8 of 8\n",
      "Computing coeffienct 1 of 8\n",
      "Computing coeffienct 2 of 8\n",
      "Computing coeffienct 3 of 8\n",
      "Computing coeffienct 4 of 8\n",
      "Computing coeffienct 5 of 8\n",
      "Computing coeffienct 6 of 8\n",
      "Computing coeffienct 7 of 8\n",
      "Computing coeffienct 8 of 8\n",
      "Computing coeffienct 1 of 16\n",
      "Computing coeffienct 2 of 16\n",
      "Computing coeffienct 3 of 16\n",
      "Computing coeffienct 4 of 16\n",
      "Computing coeffienct 5 of 16\n",
      "Computing coeffienct 6 of 16\n",
      "Computing coeffienct 7 of 16\n",
      "Computing coeffienct 8 of 16\n",
      "Computing coeffienct 9 of 16\n",
      "Computing coeffienct 10 of 16\n",
      "Computing coeffienct 11 of 16\n",
      "Computing coeffienct 12 of 16\n",
      "Computing coeffienct 13 of 16\n",
      "Computing coeffienct 14 of 16\n",
      "Computing coeffienct 15 of 16\n",
      "Computing coeffienct 16 of 16\n",
      "Computing coeffienct 1 of 8\n",
      "Computing coeffienct 2 of 8\n",
      "Computing coeffienct 3 of 8\n",
      "Computing coeffienct 4 of 8\n",
      "Computing coeffienct 5 of 8\n",
      "Computing coeffienct 6 of 8\n",
      "Computing coeffienct 7 of 8\n",
      "Computing coeffienct 8 of 8\n",
      "done\n",
      "Computing Sobol indices...\n",
      "Multi indices of dimension u = (0,) are [array([2, 1, 1, 1, 1, 1, 1, 1, 1, 1, 1, 1, 1, 1])]\n",
      "Multi indices of dimension u = (1,) are [array([1, 2, 1, 1, 1, 1, 1, 1, 1, 1, 1, 1, 1, 1]), array([1, 3, 1, 1, 1, 1, 1, 1, 1, 1, 1, 1, 1, 1])]\n",
      "Multi indices of dimension u = (2,) are [array([1, 1, 2, 1, 1, 1, 1, 1, 1, 1, 1, 1, 1, 1])]\n",
      "Multi indices of dimension u = (3,) are []\n",
      "Multi indices of dimension u = (4,) are [array([1, 1, 1, 1, 2, 1, 1, 1, 1, 1, 1, 1, 1, 1])]\n",
      "Multi indices of dimension u = (5,) are []\n",
      "Multi indices of dimension u = (6,) are [array([1, 1, 1, 1, 1, 1, 2, 1, 1, 1, 1, 1, 1, 1])]\n",
      "Multi indices of dimension u = (7,) are []\n",
      "Multi indices of dimension u = (8,) are [array([1, 1, 1, 1, 1, 1, 1, 1, 2, 1, 1, 1, 1, 1])]\n",
      "Multi indices of dimension u = (9,) are []\n",
      "Multi indices of dimension u = (10,) are []\n",
      "Multi indices of dimension u = (11,) are []\n",
      "Multi indices of dimension u = (12,) are []\n",
      "Multi indices of dimension u = (13,) are [array([1, 1, 1, 1, 1, 1, 1, 1, 1, 1, 1, 1, 1, 2])]\n",
      "done\n"
     ]
    },
    {
     "name": "stderr",
     "output_type": "stream",
     "text": [
      "/Users/robertsinclair/anaconda3/envs/easyvvuq/lib/python3.6/site-packages/easyvvuq-0.5.3+19.gd25e346-py3.6.egg/easyvvuq/analysis/sc_analysis.py:1037: RuntimeWarning: invalid value encountered in true_divide\n"
     ]
    }
   ],
   "source": [
    "campaign.apply_analysis(analysis)\n",
    "results = campaign.get_last_analysis()"
   ]
  },
  {
   "cell_type": "code",
   "execution_count": 10,
   "metadata": {},
   "outputs": [],
   "source": [
    "sobols_first = results[\"sobols_first\"][output_columns[0]]"
   ]
  },
  {
   "cell_type": "code",
   "execution_count": null,
   "metadata": {},
   "outputs": [],
   "source": [
    "# plot first order sobol indeces by time\n",
    "\n",
    "import seaborn as sns\n",
    "import matplotlib.pyplot as plt \n",
    "\n",
    "plt.figure()\n",
    "\n",
    "x = range(801)\n",
    "for i,v in enumerate(sobols_first):\n",
    "    y = sobols_first[v]\n",
    "    important = False\n",
    "    if y[-1] > 0.001:\n",
    "        ax = sns.lineplot(x=x,y=sobols_first[v],label=params[i])\n",
    "\n",
    "plt.legend(bbox_to_anchor=(1.05, 0.8), loc=2, borderaxespad=0.)\n",
    "plt.xlabel('Days')\n",
    "plt.ylabel('First order Sobol index')"
   ]
  },
  {
   "cell_type": "code",
   "execution_count": null,
   "metadata": {
    "scrolled": true
   },
   "outputs": [],
   "source": [
    "mean, D, S_u = analysis.get_pce_sobol_indices('cumDeath','all')"
   ]
  },
  {
   "cell_type": "code",
   "execution_count": null,
   "metadata": {},
   "outputs": [],
   "source": [
    "# plot total sobal index for each variable \n",
    "sns.set_palette(\"colorblind\")\n",
    "plt.figure()\n",
    "x = range(801)\n",
    "S_T = {i:np.zeros(801) for i in range(14)}\n",
    "\n",
    "for key in S_u.keys():\n",
    "    for index in key:\n",
    "        S_T[index] += S_u[key]\n",
    "        \n",
    "for i,label in enumerate(sobols_first):\n",
    "    y = S_T[i]\n",
    "    if y[-1] > 0.02:\n",
    "        sns.lineplot(x=x,y=y,label=params[i])\n",
    "    \n",
    "plt.legend(bbox_to_anchor=(1.05, 0.8), loc=2, borderaxespad=0.)\n",
    "plt.xlabel('Days')\n",
    "plt.ylabel('Total Sobol index')   "
   ]
  },
  {
   "cell_type": "code",
   "execution_count": null,
   "metadata": {},
   "outputs": [],
   "source": [
    "# this is useful to check if there are some significant high order interactions\n",
    "for key in S_u.keys():\n",
    "    if S_u[key][-1] > 0.01:\n",
    "         print(key, S_u[key][-1])\n",
    "            \n",
    "print('\\n key:')\n",
    "for i,label in enumerate(sobols_first):\n",
    "    print(i,label)"
   ]
  },
  {
   "cell_type": "markdown",
   "metadata": {},
   "source": [
    "# Cumulitive deaths \n",
    "\n",
    "I've modified wouters code from easyvvuq to generate 2 confidence intervals in one ensemble. "
   ]
  },
  {
   "cell_type": "code",
   "execution_count": 11,
   "metadata": {},
   "outputs": [],
   "source": [
    "def get_confidence_intervals(self, qoi, n_samples, conf1=0.36, conf2=0.9):\n",
    "        \"\"\"\n",
    "        Compute the confidence intervals based upon samples of the SC surrogate.\n",
    "        Uses a non-parametric approach based upon the empirical cumulative\n",
    "        distribution function.\n",
    "\n",
    "        Parameters:\n",
    "        -----------\n",
    "        qoi (str): name of the Quantity of Interest for which to compute the intervals\n",
    "        n_samples (int): number of surrogate samples to be used in the computation\n",
    "        conf (float in [0, 1]): the confidence interval magnitude\n",
    "\n",
    "        Returns:\n",
    "        --------\n",
    "        lower, upper (array of floats): the upper and lower bound of the interval\n",
    "        \"\"\"\n",
    "\n",
    "        #lower bound = alpha, upper bound = 1 - alpha \n",
    "        alpha1 = 0.5*(1.0 - conf1)\n",
    "        alpha2 = 0.5*(1.0 - conf2)\n",
    "\n",
    "        #draw n_samples draws from the input distributions\n",
    "        xi_mc = np.zeros([n_samples, self.N])\n",
    "        idx = 0\n",
    "        for dist in self.sampler.vary.get_values():\n",
    "            xi_mc[:, idx] = dist.sample(n_samples)\n",
    "            idx += 1\n",
    "\n",
    "        #sample the surrogate n_samples times\n",
    "        surr_samples = np.zeros([n_samples, self.N_qoi])\n",
    "        print('Sampling surrogate %d times' % (n_samples,))\n",
    "        for i in range(n_samples):\n",
    "            surr_samples[i, :] = self.surrogate(qoi, xi_mc[i])\n",
    "            if np.mod(i, 100) == 0:\n",
    "                print('%d of %d' % (i + 1, n_samples))\n",
    "        print('done')\n",
    "\n",
    "        #arrays for lower and upper bound of the interval\n",
    "        lower = np.zeros(self.N_qoi)\n",
    "        upper = np.zeros(self.N_qoi)\n",
    "\n",
    "        #the probabilities of the ecdf\n",
    "        prob = np.linspace(0, 1, n_samples)\n",
    "        #the closest locations in prob that correspond to the interval bounds\n",
    "        idx10 = np.where(prob <= alpha1)[0][-1]\n",
    "        idx11 = np.where(prob <= 1.0 - alpha1)[0][-1]\n",
    "        idx20 = np.where(prob <= alpha2)[0][-1]\n",
    "        idx21 = np.where(prob <= 1.0 - alpha2)[0][-1]\n",
    "        \n",
    "        lower1 = np.zeros(self.N_qoi)\n",
    "        lower2 = np.zeros(self.N_qoi)\n",
    "        upper1 = np.zeros(self.N_qoi)\n",
    "        upper2 = np.zeros(self.N_qoi)\n",
    "        \n",
    "        #for every location of qoi compute the ecdf-based confidence interval\n",
    "        for i in range(self.N_qoi):\n",
    "            #the sorted surrogate samples at the current location\n",
    "            samples_sorted = np.sort(surr_samples[:, i])\n",
    "            #the corresponding confidence interval\n",
    "            lower1[i] = samples_sorted[idx10]\n",
    "            upper1[i] = samples_sorted[idx11]\n",
    "            lower2[i] = samples_sorted[idx20]\n",
    "            upper2[i] = samples_sorted[idx21]\n",
    "       \n",
    "        total_deaths = surr_samples[:, -1]\n",
    "        \n",
    "        return lower1, upper1, lower2, upper2, total_deaths\n"
   ]
  },
  {
   "cell_type": "code",
   "execution_count": 12,
   "metadata": {},
   "outputs": [
    {
     "name": "stdout",
     "output_type": "stream",
     "text": [
      "Sampling surrogate 1000 times\n",
      "1 of 1000\n",
      "101 of 1000\n",
      "201 of 1000\n",
      "301 of 1000\n",
      "401 of 1000\n",
      "501 of 1000\n",
      "601 of 1000\n",
      "701 of 1000\n",
      "801 of 1000\n",
      "901 of 1000\n",
      "done\n"
     ]
    }
   ],
   "source": [
    "lower1, upper1, lower2, upper2, total_deaths = get_confidence_intervals(analysis, 'cumDeath', 1000)"
   ]
  },
  {
   "cell_type": "code",
   "execution_count": 14,
   "metadata": {
    "scrolled": true
   },
   "outputs": [
    {
     "data": {
      "image/png": "[encoded data removed]",
      "text/plain": [
       "<Figure size 576x288 with 2 Axes>"
      ]
     },
     "metadata": {
      "needs_background": "light"
     },
     "output_type": "display_data"
    }
   ],
   "source": [
    "import matplotlib.pyplot as plt\n",
    "from matplotlib import gridspec\n",
    "import seaborn as sns\n",
    "\n",
    "x = range(801)\n",
    "\n",
    "fig = plt.figure(figsize=(8,4))\n",
    "spec = gridspec.GridSpec(ncols=2, nrows=1,\n",
    "                         width_ratios=[3, 1])\n",
    "\n",
    "ax1 = fig.add_subplot(spec[0])\n",
    "ax2 = fig.add_subplot(spec[1], sharey=ax1)\n",
    "ax2.get_xaxis().set_ticks([])\n",
    "fig.subplots_adjust(wspace=0)\n",
    "plt.setp(ax2.get_yticklabels(), visible=False)\n",
    "\n",
    "ax1.fill_between(x, lower2, upper2, color='#eee9ff', label='95% CI')\n",
    "ax1.fill_between(x, lower1, upper1, color='#aa99cc', label='68% CI')\n",
    "mean = results[\"statistical_moments\"][output_columns[0]][\"mean\"]\n",
    "ax1.plot(x,mean, label='Mean')\n",
    "ax1.legend(loc=\"upper left\")\n",
    "\n",
    "ax1.set_xlabel('Days')\n",
    "ax1.set_ylabel('Cumulative deaths')\n",
    "ax2.set_xlabel('Frequency')\n",
    "#ax2.set_title('Total deaths distribution')\n",
    "ax2.axis('off')\n",
    "\n",
    "ax2 = sns.distplot(total_deaths, vertical=True)"
   ]
  },
  {
   "cell_type": "code",
   "execution_count": 15,
   "metadata": {},
   "outputs": [
    {
     "data": {
      "text/plain": [
       "14473.879314383596"
      ]
     },
     "execution_count": 15,
     "metadata": {},
     "output_type": "execute_result"
    }
   ],
   "source": [
    "total_deaths.mean()"
   ]
  },
  {
   "cell_type": "code",
   "execution_count": 16,
   "metadata": {
    "scrolled": true
   },
   "outputs": [
    {
     "data": {
      "text/plain": [
       "8214.085065890582"
      ]
     },
     "execution_count": 16,
     "metadata": {},
     "output_type": "execute_result"
    }
   ],
   "source": [
    "total_deaths.std()"
   ]
  },
  {
   "cell_type": "code",
   "execution_count": 17,
   "metadata": {},
   "outputs": [
    {
     "data": {
      "text/plain": [
       "1.4341722600214732"
      ]
     },
     "execution_count": 17,
     "metadata": {},
     "output_type": "execute_result"
    }
   ],
   "source": [
    "from scipy.stats import skew, kurtosis\n",
    "skew(total_deaths)"
   ]
  },
  {
   "cell_type": "code",
   "execution_count": 18,
   "metadata": {},
   "outputs": [
    {
     "data": {
      "text/plain": [
       "1.8833907519850053"
      ]
     },
     "execution_count": 18,
     "metadata": {},
     "output_type": "execute_result"
    }
   ],
   "source": [
    "kurtosis(total_deaths)"
   ]
  },
  {
   "cell_type": "code",
   "execution_count": 19,
   "metadata": {},
   "outputs": [],
   "source": [
    "from scipy.stats import lognorm\n",
    "stddev = total_deaths.std()\n",
    "mean = total_deaths.mean()\n",
    "\n",
    "dist=lognorm([stddev],loc=mean)"
   ]
  },
  {
   "cell_type": "code",
   "execution_count": 21,
   "metadata": {
    "scrolled": false
   },
   "outputs": [
    {
     "data": {
      "text/plain": [
       "<matplotlib.axes._subplots.AxesSubplot at 0x1a2ae77240>"
      ]
     },
     "execution_count": 21,
     "metadata": {},
     "output_type": "execute_result"
    },
    {
     "data": {
      "image/png": "[encoded data removed]",
      "text/plain": [
       "<Figure size 432x288 with 1 Axes>"
      ]
     },
     "metadata": {
      "needs_background": "light"
     },
     "output_type": "display_data"
    }
   ],
   "source": [
    "x = range(0,100000)\n",
    "sns.lineplot(x,dist.pdf(x))"
   ]
  },
  {
   "cell_type": "code",
   "execution_count": 29,
   "metadata": {},
   "outputs": [
    {
     "name": "stderr",
     "output_type": "stream",
     "text": [
      "/Users/robertsinclair/anaconda3/envs/easyvvuq/lib/python3.6/site-packages/scipy/stats/_distn_infrastructure.py:2511: IntegrationWarning: The integral is probably divergent, or slowly convergent.\n",
      "  vals = integrate.quad(fun, lb, ub, **kwds)[0] / invfac\n"
     ]
    },
    {
     "data": {
      "text/plain": [
       "22.554138938629876"
      ]
     },
     "execution_count": 29,
     "metadata": {},
     "output_type": "execute_result"
    }
   ],
   "source": [
    "dist.expect()"
   ]
  },
  {
   "cell_type": "code",
   "execution_count": 30,
   "metadata": {},
   "outputs": [
    {
     "data": {
      "text/plain": [
       "<matplotlib.axes._subplots.AxesSubplot at 0x1a26341198>"
      ]
     },
     "execution_count": 30,
     "metadata": {},
     "output_type": "execute_result"
    },
    {
     "data": {
      "image/png": "[encoded data removed]",
      "text/plain": [
       "<Figure size 432x288 with 1 Axes>"
      ]
     },
     "metadata": {
      "needs_background": "light"
     },
     "output_type": "display_data"
    }
   ],
   "source": [
    "sns.distplot(total_deaths)"
   ]
  },
  {
   "cell_type": "code",
   "execution_count": 115,
   "metadata": {},
   "outputs": [
    {
     "name": "stdout",
     "output_type": "stream",
     "text": [
      "1.0000000000000004\n"
     ]
    },
    {
     "data": {
      "text/plain": [
       "<matplotlib.axes._subplots.AxesSubplot at 0x1a23fe3fd0>"
      ]
     },
     "execution_count": 115,
     "metadata": {},
     "output_type": "execute_result"
    },
    {
     "data": {
      "image/png": "[encoded data removed]",
      "text/plain": [
       "<Figure size 432x288 with 1 Axes>"
      ]
     },
     "metadata": {
      "needs_background": "light"
     },
     "output_type": "display_data"
    }
   ],
   "source": [
    "N=70\n",
    "x = np.arange(1,N)\n",
    "\n",
    "pdf = np.zeros(len(x))\n",
    "\n",
    "for count in total_deaths:\n",
    "    count = round(count/1000)\n",
    "    pdf[int(count)] += 1\n",
    "\n",
    "pdf = pdf / (sum(pdf))\n",
    "print(sum(pdf))\n",
    "\n",
    "sns.lineplot(x=x,y=pdf)\n"
   ]
  },
  {
   "cell_type": "code",
   "execution_count": 116,
   "metadata": {},
   "outputs": [],
   "source": [
    "def lognormal(x,sig,mu):\n",
    "    factor = 1/(x*sig*np.sqrt(2*np.pi))\n",
    "    top = (np.log(x) - mu)**2\n",
    "    bot = 2 * sig * sig\n",
    "    return factor * np.exp(-top/bot)"
   ]
  },
  {
   "cell_type": "code",
   "execution_count": 117,
   "metadata": {},
   "outputs": [
    {
     "data": {
      "text/plain": [
       "(array([0.43404928, 2.50623374]), array([[1.95045650e-04, 4.23300173e-05],\n",
       "        [4.23300173e-05, 2.84963101e-04]]))"
      ]
     },
     "execution_count": 117,
     "metadata": {},
     "output_type": "execute_result"
    }
   ],
   "source": [
    "from scipy.optimize import curve_fit\n",
    "\n",
    "a,b = curve_fit(lognormal,x,pdf, p0=[1,2])\n",
    "a,b"
   ]
  },
  {
   "cell_type": "code",
   "execution_count": 118,
   "metadata": {},
   "outputs": [
    {
     "data": {
      "text/plain": [
       "<matplotlib.axes._subplots.AxesSubplot at 0x1a246980b8>"
      ]
     },
     "execution_count": 118,
     "metadata": {},
     "output_type": "execute_result"
    },
    {
     "data": {
      "image/png": "[encoded data removed]",
      "text/plain": [
       "<Figure size 432x288 with 1 Axes>"
      ]
     },
     "metadata": {
      "needs_background": "light"
     },
     "output_type": "display_data"
    }
   ],
   "source": [
    "sns.lineplot(x=x, y=lognormal(x,a[0],a[1]))\n",
    "sns.lineplot(x=x,y=pdf)"
   ]
  },
  {
   "cell_type": "code",
   "execution_count": 119,
   "metadata": {},
   "outputs": [
    {
     "data": {
      "text/plain": [
       "13.469570811293737"
      ]
     },
     "execution_count": 119,
     "metadata": {},
     "output_type": "execute_result"
    }
   ],
   "source": [
    "def mean(sig, mu):\n",
    "    return np.exp(mu + sig*sig/2)\n",
    "mean(*a)"
   ]
  },
  {
   "cell_type": "code",
   "execution_count": 120,
   "metadata": {},
   "outputs": [
    {
     "data": {
      "text/plain": [
       "(1.6797679300386668, 1.4184461262872725)"
      ]
     },
     "execution_count": 120,
     "metadata": {},
     "output_type": "execute_result"
    }
   ],
   "source": [
    "skew(lognormal(x,a[0],a[1])),kurtosis(lognormal(x,a[0],a[1]))"
   ]
  },
  {
   "cell_type": "code",
   "execution_count": null,
   "metadata": {},
   "outputs": [],
   "source": []
  },
  {
   "cell_type": "code",
   "execution_count": null,
   "metadata": {},
   "outputs": [],
   "source": []
  },
  {
   "cell_type": "code",
   "execution_count": null,
   "metadata": {},
   "outputs": [],
   "source": []
  },
  {
   "cell_type": "code",
   "execution_count": null,
   "metadata": {},
   "outputs": [],
   "source": []
  },
  {
   "cell_type": "code",
   "execution_count": null,
   "metadata": {},
   "outputs": [],
   "source": []
  },
  {
   "cell_type": "code",
   "execution_count": null,
   "metadata": {},
   "outputs": [],
   "source": []
  },
  {
   "cell_type": "code",
   "execution_count": null,
   "metadata": {},
   "outputs": [],
   "source": []
  }
 ],
 "metadata": {
  "kernelspec": {
   "display_name": "Python 3",
   "language": "python",
   "name": "python3"
  },
  "language_info": {
   "codemirror_mode": {
    "name": "ipython",
    "version": 3
   },
   "file_extension": ".py",
   "mimetype": "text/x-python",
   "name": "python",
   "nbconvert_exporter": "python",
   "pygments_lexer": "ipython3",
   "version": "3.6.8"
  }
 },
 "nbformat": 4,
 "nbformat_minor": 4
}
